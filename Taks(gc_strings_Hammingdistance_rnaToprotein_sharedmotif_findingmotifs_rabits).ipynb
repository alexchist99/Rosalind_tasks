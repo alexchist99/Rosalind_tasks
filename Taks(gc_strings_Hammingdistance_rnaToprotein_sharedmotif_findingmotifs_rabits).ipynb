{
 "cells": [
  {
   "cell_type": "code",
   "execution_count": 1,
   "metadata": {},
   "outputs": [
    {
     "data": {
      "text/plain": [
       "'C:\\\\Users\\\\alexc'"
      ]
     },
     "execution_count": 1,
     "metadata": {},
     "output_type": "execute_result"
    }
   ],
   "source": [
    "import os\n",
    "os.getcwd()\n"
   ]
  },
  {
   "cell_type": "code",
   "execution_count": null,
   "metadata": {},
   "outputs": [],
   "source": [
    "#Task1"
   ]
  },
  {
   "cell_type": "code",
   "execution_count": 2,
   "metadata": {},
   "outputs": [
    {
     "name": "stdout",
     "output_type": "stream",
     "text": [
      "Rosalind_0801\n",
      "51.7406963\n"
     ]
    }
   ],
   "source": [
    "with open('rosalind_gc (2).txt','r') as f:\n",
    "    d=dict()\n",
    "    d1=dict()\n",
    "    lst=[]\n",
    "    b=''\n",
    "    for line in f:\n",
    "        if line.startswith('>'):\n",
    "            key=line.rstrip()\n",
    "            b=''\n",
    "        else:\n",
    "            b+=line.rstrip()\n",
    "        d[key]=b\n",
    "            \n",
    "    for key,val in d.items():\n",
    "        \n",
    "        d1[len([i for i in val if i=='G' or i=='C' ])/len(val)]=val\n",
    "    for key,val in d.items():\n",
    "        if d[key]== d1[sorted(d1,reverse=True)[0]]:\n",
    "            print(key[1:],round(sorted(d1,reverse=True)[0]*100,7),sep='\\n')\n",
    "            \n",
    "        \n",
    "    \n"
   ]
  },
  {
   "cell_type": "code",
   "execution_count": null,
   "metadata": {},
   "outputs": [],
   "source": [
    "#Task2"
   ]
  },
  {
   "cell_type": "code",
   "execution_count": 4,
   "metadata": {},
   "outputs": [
    {
     "name": "stdout",
     "output_type": "stream",
     "text": [
      "423\n"
     ]
    }
   ],
   "source": [
    "#Hamming distance\n",
    "with open('rosalind_hamm.txt','r') as f1:\n",
    "    fr=f1.read()\n",
    "    f2=fr.splitlines()\n",
    "    count=0\n",
    "flst1,flst2=f2[0],f2[1]\n",
    "\n",
    "for x,y in list(zip(flst1,flst2)):\n",
    "    if x!=y:\n",
    "        count+=1\n",
    "print(count)\n",
    "\n",
    "#ANOTHER SILUTIONS:\n",
    "\n",
    "#1 (ZIP_SHORT)\n",
    "#s1,s2=strings\n",
    "#sum([a != b for a, b in zip(s1, s2)])\n",
    "\n",
    "#2 (MAP)\n",
    "# input_file = 'rosalind_HAMM.txt'\n",
    "# with open(input_file) as file:\n",
    "#     dna1 = file.readline().strip()\n",
    "#     dna2 = file.readline().strip()\n",
    "# print sum(map(lambda x, y: 0 if x == y else 1, dna1, dna2))"
   ]
  },
  {
   "cell_type": "code",
   "execution_count": 48,
   "metadata": {},
   "outputs": [
    {
     "name": "stdout",
     "output_type": "stream",
     "text": [
      "MVVPLNPSAFRDTYNLTTTAVTITFSRNLTLNSLKTSSTRRSFCLGPGVAQCGPILGVRRLDVRAVASLVRNTSLQWIFIDVTHQMGLDSVFVSHSPTSQIFNKWDSPVRSLGWSRIYGFVALCGLINRFSQSSHTAPTGPLRPYVTNWTAAMVLPIWRAATLVSQVLTKDIFSLQTSIVSLIHVCTSHVTWRRDNRMNTNSRDALLEIGNPCHRKLGPKRVSRLISCTALPRTEEINEHYSLAFLSCRSDCDCQLSRARDSPGTFVSHIPYLVASHRGHTGRKRSSDHASEQRRTRLRLGCALHSSHVTPTARRLPNGDPLFGVHRRMRLAKPLFHRKGVQLMLRGFRRSVSPCSTDFYDCHQADVIVIANWFRLIARMVRRGRKSVLTNVLKANYTCDSVTPTPLTLSPAKQSPALFRVGDSSTDCRLWIVPYPPLSRTYAEIGFIPNASKSIRTADFSWKGGVQLNLSKVNRSASRTGLIPVSYNLETNLFAKDMNLAHLVRATPEVLNLETRLWPIQRVLYSLVPGRWRTTFGVDVYIEPRTSRIRASCRAARRRGNELPHMPQIQQNKRTHCFNRSLASRLGRIGSLVSTHMSQNSPLPYGYLRKWSLNRSLETRMTGLLWKVDGNSDAVRVILLVILYEVRCPATQREAITRALQLSCPGGSNSNLTAERSSNLIRAKESRVGRFRSFHYTHLDYVNSVCRSIEIKSRQTELHSLKFKFSSTPKDDQCPLLQEDPVHPVTAKVTVHHNVLDSLRRLRTGSLLLIRLSDGLRCPPSIGRYRIIREPSQMWSILFRELLCRPKLRTLPFNVGSGVQMLSPVDVLRSRAIKRLTPLYGETWFPDLGEKVARAQNESNVCSKSILHSLPLQVSAAGGSDKVLMIFYEPLHSKAGRRMAEHYNLLNRPPQLKGRLRTVHSNSLATCSSSQLSHQWCHALGVCAQHRSLSHLPADYQRCISKALIGMSDRWFSSPGLNPSVRYMVRQWCPHPRQCTTELTLSVGWLDESVLLLDDIASSIDPYRKRLRYASAQPYIEDDSCLLMETNPTTCANYFPGDSALDRIATDAYVFILRKQPVSINVCYLPEGRRPGFTMPYGTNTAHLLNSTVYLERRANGRSDGPKNKNDPVDTNREGPTSWHESLSLALRAFWRENAPRNHYTPEIRFDAFPLAESPLRQRRDPMGLAIPRAAGVVTYVWFGCILMAVCHVWLLCAVILLVDNSSLMRPGMDDTGFDYPHYRTGNWGYTDKTGLSRALVARTKRKGETLRVIESSTNLRRCTLHKERFGTRTLTTHGQRINPRKGKELKYNLRLRAPQRRCELPVMRGYWDIGPRFLVSRTGTLSLHHYGGVNGGSETQPHITQTERLLPSIIVLREGPTLVKSEPLSVLLRLRVTSEDFSTLPAVHLTPRPSKACLVMFHAMHCAYYGSFKIITQTGELPPTGVLMGPELAWASRVSISFLTLHHICRCVLPSVKQEERHPFRVTNPHVGSNKSSHGVVGATERDLSPEAHATTRWSFTEPNISSLKMDLKSTKKKQTWMLSQRRSSADIYEVVKEFCQGGHVTASLLRLVELDSDTESLNVKSCHSNSSIIYSSRVDGSLDEHYHSTLLQNGTLDQFRENVLCSRPVRRGHEIILANNQTGNDPGFPISLEKALCHATLKLISEARRAPRRSISIPLTCNEVPDVNIQQIGQYMFLGPRGDFVLPAMVVLETARSSYPTCFDYSVCNLFPQFDHRPDTLSCLFGVIPTSYYWVRSHVCYQNLQLNTEIGGFHRNHRMHGLRFPRIFTTTRSYKQIGRGRIYRWVQQHNSALAVSRVTTDRHHTYLEGNWYLWIRAPRFYWTRQTRKLFPYRLGRKDISRRTFFSFEECASNCNSNPETRSENESSLPLAFANTCRTRQDVTERKEADRSRDSVHVNDRVGLATNKYMRGTSPRSFSKGTSGVSVTHPIASPDPRPFPQVSSLTQQHTIRGSYIPGAQTNEAMPGKVRNVQPGTLSSKRPLGVNWLLLIRDSLKFKTEDCGLYKAGCSIPLRLEPLESVESVICHVNGETATTIVNELSTASDLRWDVTSFSRQFYIKCLVWRCSYLLYRGSLYWFPNEKSTLRQTHNVHICRVENANREVSEVAFRPPTDLNLKVPDNGAPGDLGDMVRFACGCSTYCYRDATGHCPHHALQLSTKEYQRPLISPSGKFRSRYCIWLLQRIRTRRRYPLVSDGEIWSPPSRLPLPPGLVTLRKSVASVLYLRVGQDYPRQYPIGVRACQTVGRSTEPLRGGVKPVTQYARPASNTNSLSCDPADMLCNLVCSRSTTIISLICGHYLSRRSSGTQRCPQIVYLEPTRYCISAEVSAICFVEGDEMKRWSSDKVAPICSVLVCRGWQLGPLMKVLITDRKSRWGIKLRGLPIQSDSECHKRWYVAVVSIDANFITHPRQTTQDGSLGDIMVLARQTPVVYLSRGSYFIHSTQQTCYNVLFDVGCISLPQDWPLTLDTRIGTRRVPQALFIATLYSPTAVGLKTATDLRYHTMPSRLDQASSCTRGQAITTEPVHVFLVYATRLVTPNQCQPPTAQGKCTSELKDATVNCSTRDISDGATEAVFVRGVGKFISDLVSSESSVYSGSSTRSRGSPAKTERQFKYLSRLAATQVYDCFVHYLAAIHLGSFYLTCWVSSRAIQYCIISMPYATTCVFQPTSPPSLVGQVFRVVRPDLEPIQSCNNNLRRLASTVISEFKNLYRLSCYAPLVKRQRLARNEPEHTLLQEPTRDYLCPFVTQYWVQDSRYVAICPAEYSLADGGSSGSHYFKFSTSPVGDQRGKELMVYDVSSLPSNARVVLLIRTCLIIEGVPHSWCGSEACVTCACPNGSARSCAHADARGRDRSFTATTLKEGPEDFLSRSNRLCGDTGEVAPGTLPRIMLGVSTCTTYQSADEMRQSLCAVILSGGVANGFYFPAITSERVRSEGEGPGWLPIRSISLVGIVITHWSVSKKRVIATGMSLQVHWTAVVAVAEYSGPVTYCVGDRSRSSYLIKDPNASIGMRPKPDGLVLYRRIETF\n"
     ]
    }
   ],
   "source": [
    "#TASK3_RNAtoPROT\n",
    "map = {\"UUU\":\"F\", \"UUC\":\"F\", \"UUA\":\"L\", \"UUG\":\"L\",\n",
    "    \"UCU\":\"S\", \"UCC\":\"S\", \"UCA\":\"S\", \"UCG\":\"S\",\n",
    "    \"UAU\":\"Y\", \"UAC\":\"Y\", \"UAA\":\"STOP\", \"UAG\":\"STOP\",\n",
    "    \"UGU\":\"C\", \"UGC\":\"C\", \"UGA\":\"STOP\", \"UGG\":\"W\",\n",
    "    \"CUU\":\"L\", \"CUC\":\"L\", \"CUA\":\"L\", \"CUG\":\"L\",\n",
    "    \"CCU\":\"P\", \"CCC\":\"P\", \"CCA\":\"P\", \"CCG\":\"P\",\n",
    "    \"CAU\":\"H\", \"CAC\":\"H\", \"CAA\":\"Q\", \"CAG\":\"Q\",\n",
    "    \"CGU\":\"R\", \"CGC\":\"R\", \"CGA\":\"R\", \"CGG\":\"R\",\n",
    "    \"AUU\":\"I\", \"AUC\":\"I\", \"AUA\":\"I\", \"AUG\":\"M\",\n",
    "    \"ACU\":\"T\", \"ACC\":\"T\", \"ACA\":\"T\", \"ACG\":\"T\",\n",
    "    \"AAU\":\"N\", \"AAC\":\"N\", \"AAA\":\"K\", \"AAG\":\"K\",\n",
    "    \"AGU\":\"S\", \"AGC\":\"S\", \"AGA\":\"R\", \"AGG\":\"R\",\n",
    "    \"GUU\":\"V\", \"GUC\":\"V\", \"GUA\":\"V\", \"GUG\":\"V\",\n",
    "    \"GCU\":\"A\", \"GCC\":\"A\", \"GCA\":\"A\", \"GCG\":\"A\",\n",
    "    \"GAU\":\"D\", \"GAC\":\"D\", \"GAA\":\"E\", \"GAG\":\"E\",\n",
    "    \"GGU\":\"G\", \"GGC\":\"G\", \"GGA\":\"G\", \"GGG\":\"G\",}\n",
    "with open('rosalind_prot.txt') as rnafl:\n",
    "    f1=rnafl.read()\n",
    "    rnaf=f1.splitlines()\n",
    "    count=0\n",
    "    lst_codon=[]\n",
    "    str_codon=''\n",
    "    final_str=''\n",
    "    for codon in rnaf[0]:\n",
    "        count+=1\n",
    "        str_codon+=codon\n",
    "        if count%3==0:\n",
    "            lst_codon.append(str_codon)\n",
    "            str_codon=''\n",
    "    for codon in lst_codon:\n",
    "        for codon_t,aminoacid in map.items():\n",
    "            \n",
    "            if codon_t==codon:\n",
    "                if aminoacid==\"STOP\":\n",
    "                    break\n",
    "                else:\n",
    "                    final_str+=aminoacid\n",
    "                \n",
    "    \n",
    "        \n",
    "print(final_str)"
   ]
  },
  {
   "cell_type": "code",
   "execution_count": 68,
   "metadata": {},
   "outputs": [
    {
     "name": "stdout",
     "output_type": "stream",
     "text": [
      "MAMAPRTEINSTRING\n"
     ]
    }
   ],
   "source": [
    "#SOLUTIONS\n",
    "#Expalanation strtodict\n",
    "string = \"\"\"UUU F      CUU L      AUU I      GUU V\n",
    "UUC F      CUC L      AUC I      GUC V\n",
    "UUA L      CUA L      AUA I      GUA V\n",
    "UUG L      CUG L      AUG M      GUG V\n",
    "UCU S      CCU P      ACU T      GCU A\n",
    "UCC S      CCC P      ACC T      GCC A\n",
    "UCA S      CCA P      ACA T      GCA A\n",
    "UCG S      CCG P      ACG T      GCG A\n",
    "UAU Y      CAU H      AAU N      GAU D\n",
    "UAC Y      CAC H      AAC N      GAC D\n",
    "UAA Stop   CAA Q      AAA K      GAA E\n",
    "UAG Stop   CAG Q      AAG K      GAG E\n",
    "UGU C      CGU R      AGU S      GGU G\n",
    "UGC C      CGC R      AGC S      GGC G\n",
    "UGA Stop   CGA R      AGA R      GGA G\n",
    "UGG W      CGG R      AGG R      GGG G\"\"\"\n",
    "traL =  string.split()\n",
    "traDict = dict(zip(traL[0::2], traL[1::2])) #with the step 2 from 0 or 1 to the end\n",
    "coded = \"AUGGCCAUGGCGCCCAGAACUGAGAUCAAUAGUACCCGUAUUAACGGGUGA\"\n",
    "decoded = ''\n",
    "\n",
    "for i in range(0, len(coded)-3, 3):\n",
    "    decoded += traDict[coded[i:i+3]]\n",
    "    #if i=0 then coded[0:3], i=1 then coded[1:4] and so on\n",
    "\n",
    "print(decoded)\n",
    "\n",
    "#BIOPYTHON\n",
    "from Bio.Seq import Seq\n",
    "rna = Seq(open(\"rosalind_prot.txt\", \"r\").readline().strip())\n",
    "prot = rna.translate(to_stop=True)\n",
    "print(prot)\n",
    "#handle = open(\"output_prot.txt\",\"w\")\n",
    "#handle.write(prot.tostring())"
   ]
  },
  {
   "cell_type": "code",
   "execution_count": 2,
   "metadata": {},
   "outputs": [
    {
     "name": "stdout",
     "output_type": "stream",
     "text": [
      "2 28 140 278 294 343 366 386 393 499 566 573 580 597 644 688 723 816 831 838 845\n"
     ]
    }
   ],
   "source": [
    "#Task4\n",
    "with open('rosalind_subs.txt') as motf:\n",
    "    fm=motf.read()\n",
    "    mot=fm.splitlines()\n",
    "    mot_addstr=[]\n",
    "for letter in range(0,len(mot[0])-1):\n",
    "    #print(mot[0][letter])\n",
    "    mot_add=(mot[0][letter:letter+len(mot[1])],letter+1)\n",
    "    if mot[1]==mot_add[0]:\n",
    "        mot_addstr.append(mot_add[1])\n",
    "    \n",
    "print(*mot_addstr)\n",
    "\n",
    "\n",
    "    "
   ]
  },
  {
   "cell_type": "code",
   "execution_count": 1,
   "metadata": {},
   "outputs": [
    {
     "name": "stdout",
     "output_type": "stream",
     "text": [
      "2 4 10\n"
     ]
    }
   ],
   "source": [
    "#SOLUTIONS\n",
    "#1\n",
    "# s1,s2 = open('rosalind_subs.txt').read().split('\\r\\n')\n",
    "\n",
    "# for i in range(len(s1)):\n",
    "#     if s1[i:].startswith(s2):\n",
    "#         ////\n",
    "\n",
    "#2\n",
    "# dnaSeq = \"GATATATGCATATACTT\"\n",
    "# subSeq = \"ATAT\"\n",
    "\n",
    "# r = 0\n",
    "# while r != -1 :\n",
    "#         r = dnaSeq.find(subSeq,r+1) #str.find(substr,position from what str to find)!\n",
    "#         print (r+1)\n",
    "\n",
    "#3\n",
    "string = \"GATATATGCATATACTT\"\n",
    "motif = \"ATAT\"\n",
    "\n",
    "print(' '.join([str(i + 1) for i in range(len(string)) if string[i:i + len(motif)] == motif]))"
   ]
  },
  {
   "cell_type": "code",
   "execution_count": 5,
   "metadata": {},
   "outputs": [
    {
     "name": "stdout",
     "output_type": "stream",
     "text": [
      "['GATTACA', 'TAGACCA', 'ATACA']\n"
     ]
    }
   ],
   "source": [
    "#Task5\n",
    "with open('shared_motif.txt','r') as f:\n",
    "    arr=[]\n",
    "    for line in f:\n",
    "          if not line.startswith('>'):\n",
    "                arr.append(line.rstrip())\n",
    "    print(arr)\n"
   ]
  },
  {
   "cell_type": "code",
   "execution_count": 5,
   "metadata": {},
   "outputs": [
    {
     "name": "stdout",
     "output_type": "stream",
     "text": [
      "574888488199\n"
     ]
    }
   ],
   "source": [
    "#rabits\n",
    "def wabbits(n, k):\n",
    "   if n == 0:\n",
    "    return 0\n",
    "   if n == 1:\n",
    "        return 1\n",
    "   else:\n",
    "    return wabbits(n-1, k) + k*wabbits(n-2, k)\n",
    "print(wabbits(34,3))"
   ]
  },
  {
   "cell_type": "code",
   "execution_count": null,
   "metadata": {},
   "outputs": [],
   "source": []
  }
 ],
 "metadata": {
  "kernelspec": {
   "display_name": "Python 3",
   "language": "python",
   "name": "python3"
  },
  "language_info": {
   "codemirror_mode": {
    "name": "ipython",
    "version": 3
   },
   "file_extension": ".py",
   "mimetype": "text/x-python",
   "name": "python",
   "nbconvert_exporter": "python",
   "pygments_lexer": "ipython3",
   "version": "3.8.3"
  }
 },
 "nbformat": 4,
 "nbformat_minor": 4
}
