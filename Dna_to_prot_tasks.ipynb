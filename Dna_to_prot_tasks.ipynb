{
 "cells": [
  {
   "cell_type": "code",
   "execution_count": 1,
   "metadata": {},
   "outputs": [
    {
     "name": "stdout",
     "output_type": "stream",
     "text": [
      "113187.408\n"
     ]
    }
   ],
   "source": [
    "#task1_calculatingProt_mass\n",
    "with open('prot_mass_table.txt') as mass_table:\n",
    "    m_pr=mass_table.read()\n",
    "    mass_lst=m_pr.split()\n",
    "    count=0\n",
    "    prott=''\n",
    "    final_mpr=dict(zip(mass_lst[::2],list(map(float,mass_lst[1::2]))))\n",
    "    prot=open('rosalind_prtm (1).txt')\n",
    "    for line in prot:\n",
    "        prott+=line.rstrip()\n",
    "    for let in range(len(prott)):\n",
    "        count+=final_mpr[prott[let]]\n",
    "    print(round(count,3))"
   ]
  },
  {
   "cell_type": "code",
   "execution_count": 64,
   "metadata": {},
   "outputs": [],
   "source": [
    "#SOLUTIONS\n",
    "#1\n",
    "#print \"%.2f\"%(sum(map(lambda x:mmt[x],s))+18.01528) where s-string; mmt-table \n",
    "#2\n",
    "# mass = 0\n",
    "# for char in protein:\n",
    "#     mass += amino_mass[char]\n",
    "\n",
    "# print str(mass)\n",
    "#3\n",
    "#print sum([h[x] for x in sequence])"
   ]
  },
  {
   "cell_type": "code",
   "execution_count": 60,
   "metadata": {},
   "outputs": [
    {
     "name": "stdout",
     "output_type": "stream",
     "text": [
      "MTRHSVTNPLIRLINKFNRPSRPGGLSGLPFHSLDLCPYLRPGTLHLANRGPYGSNGTCSPGSRKPLSTEMLRDIQIRPYVLLVTIRPMCRCVNHGGLLEFTLVVLCFRSGRGSSSVTSDWSRAIMARSDVKLESARLPLWTLLTTKILYGGHPRWSIRPLVLTNHAWGCRHGTLTDSLVKITMLNKIAHATL\n"
     ]
    }
   ],
   "source": [
    "#Task2\n",
    "from Bio.Seq import Seq\n",
    "with open('rosalind_splc (1).txt') as pre_rna:\n",
    "    #pre_rna1=pre_rna.read()\n",
    "    #print(pre_rna1)\n",
    "    #re = ''.join(pre_rna1.split('\\n')).split('>')\n",
    "    #re.remove('')\n",
    "    #dnagen_and_introns = [i.split(' ') for i in pre_rna1.split(\">\")[1:]]\n",
    "    #print(dnagen_and_introns)\n",
    "    d=dict()\n",
    "    dna_strings=[]\n",
    "    b=''\n",
    "    for line in pre_rna:\n",
    "        if line.startswith('>'):\n",
    "            key=line.rstrip()\n",
    "            b=''\n",
    "        else:\n",
    "            b+=line.rstrip()\n",
    "            d[key]=b\n",
    "    for val in d.values():\n",
    "        dna_strings.append(val)\n",
    "    dnagen_and_introns=dna_strings[0]\n",
    "    \n",
    "    rna_string=Seq(dnagen_and_introns).transcribe()\n",
    "    for letter in dna_strings[1:]:\n",
    "        letter=str(Seq(letter).transcribe())\n",
    "        if letter in rna_string:\n",
    "            rna_string=str(rna_string).replace(letter,'')\n",
    "#     #norm pre_rna\n",
    "    protein_string=Seq(rna_string).transcribe().translate(to_stop=True)\n",
    "    #print(dnagen_and_introns[0][1])\n",
    "    print(protein_string)\n",
    "\n"
   ]
  },
  {
   "cell_type": "code",
   "execution_count": 18,
   "metadata": {},
   "outputs": [
    {
     "name": "stdout",
     "output_type": "stream",
     "text": [
      "ATGGTCTACATAGCTGACAAACAGCACGTAGCATCTCGAGAGGCATATGGTCACATGTTCAAAGTTTGCGCCTAG\n",
      "['ATG', 'GTC', 'TAC', 'ATA', 'GCT', 'GAC', 'AAA', 'CAG', 'CAC', 'GTA', 'GCA', 'TCT', 'CGA', 'GAG', 'GCA', 'TAT', 'GGT', 'CAC', 'ATG', 'TTC', 'AAA', 'GTT', 'TGC', 'GCC', 'TAG']\n"
     ]
    },
    {
     "data": {
      "text/plain": [
       "'MVYIADKQHVASREAYGHMFKVCAStop'"
      ]
     },
     "execution_count": 18,
     "metadata": {},
     "output_type": "execute_result"
    }
   ],
   "source": [
    "#Sotutions:\n",
    "#WORK_SOLUTION\n",
    "from functools import reduce\n",
    "table = \"\"\"\n",
    "TTT F      CTT L      ATT I      GTT V\n",
    "TTC F      CTC L      ATC I      GTC V\n",
    "TTA L      CTA L      ATA I      GTA V\n",
    "TTG L      CTG L      ATG M      GTG V\n",
    "TCT S      CCT P      ACT T      GCT A\n",
    "TCC S      CCC P      ACC T      GCC A\n",
    "TCA S      CCA P      ACA T      GCA A\n",
    "TCG S      CCG P      ACG T      GCG A\n",
    "TAT Y      CAT H      AAT N      GAT D\n",
    "TAC Y      CAC H      AAC N      GAC D\n",
    "TAA Stop   CAA Q      AAA K      GAA E\n",
    "TAG Stop   CAG Q      AAG K      GAG E\n",
    "TGT C      CGT R      AGT S      GGT G\n",
    "TGC C      CGC R      AGC S      GGC G\n",
    "TGA Stop   CGA R      AGA R      GGA G\n",
    "TGG W      CGG R      AGG R      GGG G\"\"\"\n",
    "table = dict(zip(table.split()[::2],table.split()[1::2])) #\n",
    "\n",
    "data = \"\"\"\n",
    "ATGGTCTACATAGCTGACAAACAGCACGTAGCAATCGGTCGAATCTCGAGAGGCATATGGTCACATGATCGGTCGAGCGTGTTTCAAAGTTTGCGCCTAG\n",
    "ATCGGTCGAA\n",
    "ATCGGTCGAGCGTGT\n",
    "\"\"\".split()\n",
    "\n",
    "ref, introns = data[0],data[1:]\n",
    "no_introns = reduce(lambda x,i: x.replace(i,''), introns, ref) #reduce(fun(),iterable_object)\n",
    "print(no_introns)\n",
    "grouped_no_introns = [no_introns[i:i+3] for i in range(0,len(no_introns),3)] #\n",
    "print(grouped_no_introns) #['ATG', 'GTC', 'TAC', 'ATA', 'GCT', 'GAC', 'AAA', 'CAG', 'CAC', 'GTA',..]\n",
    "print(''.join(map(lambda x : table[x], grouped_no_introns ) ).replace(\"Stop\",'')) #join is also working for map() !\n",
    "\n",
    "#Sol_2\n",
    "# from Bio.Seq import Seq\n",
    "\n",
    "# input = open (\"rosalind_splc.txt\", \"r\")\n",
    "# sequence = input.readline().strip()\n",
    "# introns = input.readlines()\n",
    "# for intron in introns :\n",
    "#     sequence = sequence.replace(str(intron).strip(), \"\")\n",
    "\n",
    "# print str(Seq(sequence).translate()).replace(\"*\",\"\").strip()\n"
   ]
  },
  {
   "cell_type": "code",
   "execution_count": null,
   "metadata": {},
   "outputs": [],
   "source": []
  }
 ],
 "metadata": {
  "kernelspec": {
   "display_name": "Python 3",
   "language": "python",
   "name": "python3"
  },
  "language_info": {
   "codemirror_mode": {
    "name": "ipython",
    "version": 3
   },
   "file_extension": ".py",
   "mimetype": "text/x-python",
   "name": "python",
   "nbconvert_exporter": "python",
   "pygments_lexer": "ipython3",
   "version": "3.8.3"
  }
 },
 "nbformat": 4,
 "nbformat_minor": 4
}
